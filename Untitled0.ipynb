{
  "nbformat": 4,
  "nbformat_minor": 0,
  "metadata": {
    "colab": {
      "name": "Untitled0.ipynb",
      "provenance": [],
      "collapsed_sections": [],
      "mount_file_id": "1ziBpJNtdNhsdN435VH5iHrG-s74_HIC2",
      "authorship_tag": "ABX9TyO7E9yQyVhCxsDJnp6V0w14"
    },
    "kernelspec": {
      "name": "python3",
      "display_name": "Python 3"
    },
    "language_info": {
      "name": "python"
    }
  },
  "cells": [
    {
      "cell_type": "markdown",
      "source": [
        "# Part 4: Identifying Countries with Highest and Lowest Life Expectancies."
      ],
      "metadata": {
        "id": "gRdHKg9jAxaN"
      }
    },
    {
      "cell_type": "code",
      "source": [
        "import pandas as pd\n",
        "country_dataset = pd.read_csv(\"./API_SP.DYN.LE00.IN_DS2_en_csv_v2_4150700.csv\")\n",
        "country_dataset_2018 = pd.DataFrame({\"Countries\": country_dataset['Country Name'], \"Year:2018\": country_dataset['2018']})\n",
        "sorted_country_dataset_2018 = country_dataset_2018.sort_values(by='Year:2018', ascending=True)\n",
        "sorted_country_dataset_2018.dropna(inplace=True)\n",
        "sorted_country_dataset_2018.reset_index(inplace=True, drop=True)\n",
        "for index, row in sorted_country_dataset_2018.iterrows():\n",
        "    print(f\"The life expectancy of {row['Countries']} in 2018 was {row['Year:2018']}.\")"
      ],
      "metadata": {
        "id": "ugNooXNIA1Bq"
      },
      "execution_count": null,
      "outputs": []
    },
    {
      "cell_type": "code",
      "source": [
        "import pandas as pd\n",
        "country_dataset = pd.read_csv(\"./API_SP.DYN.LE00.IN_DS2_en_csv_v2_4150700.csv\")\n",
        "country_dataset_2018 = pd.DataFrame({\"Countries\": country_dataset['Country Name'], \"Year:2018\": country_dataset['2018']})\n",
        "sorted_country_dataset_2018 = country_dataset_2018.sort_values(by='Year:2018', ascending=False)\n",
        "sorted_country_dataset_2018.dropna(inplace=True)\n",
        "sorted_country_dataset_2018.reset_index(inplace=True, drop=True)\n",
        "for index, row in sorted_country_dataset_2018.iterrows():\n",
        "    print(f\"The life expectancy of {row['Countries']} in 2018 was {row['Year:2018']}.\")"
      ],
      "metadata": {
        "id": "qkgLN1kLA3fa"
      },
      "execution_count": null,
      "outputs": []
    }
  ]
}